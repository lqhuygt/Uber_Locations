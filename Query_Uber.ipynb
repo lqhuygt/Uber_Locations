{
 "cells": [
  {
   "cell_type": "code",
   "execution_count": 1,
   "metadata": {},
   "outputs": [],
   "source": [
    "from pyspark.sql import SparkSession\n",
    "from pyspark.sql.types import StringType, DoubleType, StructType, StructField, IntegerType,TimestampType\n",
    "from pyspark.sql.functions import col, hour"
   ]
  },
  {
   "cell_type": "code",
   "execution_count": 2,
   "metadata": {},
   "outputs": [],
   "source": [
    "# create schema\n",
    "schema = StructType([ \n",
    "    StructField(\"dt\",TimestampType(), True), \n",
    "    StructField(\"lat\",DoubleType(), True), \n",
    "    StructField(\"lon\",DoubleType(), True), \n",
    "    StructField(\"base\", StringType(), True), \n",
    "    StructField(\"cid\", IntegerType(), True),\n",
    "    StructField(\"id\", StringType(), True),\n",
    "  ])"
   ]
  },
  {
   "cell_type": "code",
   "execution_count": 3,
   "metadata": {},
   "outputs": [
    {
     "name": "stderr",
     "output_type": "stream",
     "text": [
      "22/02/08 17:44:44 WARN Utils: Your hostname, HuyLes-MacBook-Pro.local resolves to a loopback address: 127.0.0.1; using 192.168.1.8 instead (on interface en0)\n",
      "22/02/08 17:44:44 WARN Utils: Set SPARK_LOCAL_IP if you need to bind to another address\n",
      "22/02/08 17:45:14 WARN NativeCodeLoader: Unable to load native-hadoop library for your platform... using builtin-java classes where applicable\n",
      "Using Spark's default log4j profile: org/apache/spark/log4j-defaults.properties\n",
      "Setting default log level to \"WARN\".\n",
      "To adjust logging level use sc.setLogLevel(newLevel). For SparkR, use setLogLevel(newLevel).\n"
     ]
    }
   ],
   "source": [
    "spark = SparkSession.builder.appName('Uber').getOrCreate()"
   ]
  },
  {
   "cell_type": "code",
   "execution_count": 4,
   "metadata": {},
   "outputs": [
    {
     "name": "stderr",
     "output_type": "stream",
     "text": [
      "[Stage 0:>                                                          (0 + 1) / 1]\r"
     ]
    },
    {
     "name": "stdout",
     "output_type": "stream",
     "text": [
      "+-------------------+-------+--------+------+---+-----------+\n",
      "|                 dt|    lat|     lon|  base|cid|         id|\n",
      "+-------------------+-------+--------+------+---+-----------+\n",
      "|2014-08-05 09:43:00| 40.726|-74.0013|B02682|  0|  0_7260013|\n",
      "|2014-08-31 07:29:00|40.7546|-73.9895|B02617|  5| 5_75469895|\n",
      "|2014-08-09 00:16:00|40.6768|-73.9801|B02598|  6| 6_67689801|\n",
      "|2014-08-17 19:30:00|40.7689|-73.9604|B02617| 10|10_76899604|\n",
      "|2014-08-01 00:00:00| 40.729|-73.9422|B02598|  7|  7_7299422|\n",
      "+-------------------+-------+--------+------+---+-----------+\n",
      "only showing top 5 rows\n",
      "\n",
      "root\n",
      " |-- dt: timestamp (nullable = true)\n",
      " |-- lat: double (nullable = true)\n",
      " |-- lon: double (nullable = true)\n",
      " |-- base: string (nullable = true)\n",
      " |-- cid: integer (nullable = true)\n",
      " |-- id: string (nullable = true)\n",
      "\n"
     ]
    },
    {
     "name": "stderr",
     "output_type": "stream",
     "text": [
      "                                                                                \r"
     ]
    }
   ],
   "source": [
    "# read data\n",
    "path = \"hdfs://localhost:9000/Uber_Warehouse/transformed/\"\n",
    "df = spark.read.csv(path=path, schema=schema)\n",
    "\n",
    "df.show(5)\n",
    "df.printSchema()"
   ]
  },
  {
   "cell_type": "code",
   "execution_count": 5,
   "metadata": {},
   "outputs": [
    {
     "name": "stderr",
     "output_type": "stream",
     "text": [
      "                                                                                \r"
     ]
    },
    {
     "data": {
      "text/plain": [
       "829275"
      ]
     },
     "execution_count": 5,
     "metadata": {},
     "output_type": "execute_result"
    }
   ],
   "source": [
    "df.count()"
   ]
  },
  {
   "cell_type": "markdown",
   "metadata": {},
   "source": [
    "### 1. Which clusters had the highest number of pickups?"
   ]
  },
  {
   "cell_type": "markdown",
   "metadata": {},
   "source": []
  },
  {
   "cell_type": "code",
   "execution_count": 7,
   "metadata": {},
   "outputs": [
    {
     "name": "stderr",
     "output_type": "stream",
     "text": [
      "                                                                                \r"
     ]
    },
    {
     "name": "stdout",
     "output_type": "stream",
     "text": [
      "+---+------+\n",
      "|cid| count|\n",
      "+---+------+\n",
      "|  0|193744|\n",
      "| 13|118159|\n",
      "|  5|107348|\n",
      "| 11|105867|\n",
      "| 10| 75422|\n",
      "|  7| 65184|\n",
      "|  6| 53556|\n",
      "| 16| 29250|\n",
      "|  1| 24180|\n",
      "|  2| 19541|\n",
      "|  9| 15184|\n",
      "|  3|  7495|\n",
      "| 19|  6125|\n",
      "| 15|  2669|\n",
      "| 14|  1776|\n",
      "|  4|  1149|\n",
      "| 17|  1095|\n",
      "|  8|   734|\n",
      "| 12|   488|\n",
      "| 18|   309|\n",
      "+---+------+\n",
      "\n"
     ]
    }
   ],
   "source": [
    "hight_clus = df.groupBy(\"cid\").count().orderBy(col(\"count\").desc())\n",
    "hight_clus.show(20)"
   ]
  },
  {
   "cell_type": "code",
   "execution_count": 10,
   "metadata": {},
   "outputs": [
    {
     "data": {
      "image/png": "[encoded data removed]",
      "text/plain": [
       "<Figure size 1080x432 with 1 Axes>"
      ]
     },
     "metadata": {
      "needs_background": "light"
     },
     "output_type": "display_data"
    }
   ],
   "source": [
    "import matplotlib.pyplot as plt\n",
    "# covert spark df to pandas df\n",
    "hight_clus_pd = hight_clus.toPandas()\n",
    "\n",
    "hight_clus_pd.plot.bar(x='cid', y='count', figsize=(15,6), rot=0)\n",
    "plt.grid()\n",
    "plt.xlabel(\"Mã cụm - cid\")\n",
    "plt.ylabel(\"Số chuyến đi\")\n",
    "plt.title(\"Mật độ book xe của các khu vực\");"
   ]
  },
  {
   "cell_type": "markdown",
   "metadata": {},
   "source": [
    "### 2. Which hours of the day had the highest number of pickups?"
   ]
  },
  {
   "cell_type": "code",
   "execution_count": 11,
   "metadata": {},
   "outputs": [
    {
     "name": "stderr",
     "output_type": "stream",
     "text": [
      "[Stage 18:=======================================>              (147 + 8) / 200]\r"
     ]
    },
    {
     "name": "stdout",
     "output_type": "stream",
     "text": [
      "+----+-----+\n",
      "|hour|count|\n",
      "+----+-----+\n",
      "|   0|21451|\n",
      "|   1|14471|\n",
      "|   2|10105|\n",
      "|   3|10376|\n",
      "|   4|11774|\n",
      "|   5|16525|\n",
      "|   6|24907|\n",
      "|   7|34064|\n",
      "|   8|34566|\n",
      "|   9|30195|\n",
      "|  10|30706|\n",
      "|  11|31778|\n",
      "|  12|32106|\n",
      "|  13|35764|\n",
      "|  14|40644|\n",
      "|  15|48197|\n",
      "|  16|53481|\n",
      "|  17|57122|\n",
      "|  18|55390|\n",
      "|  19|53008|\n",
      "|  20|51674|\n",
      "|  21|51354|\n",
      "|  22|46008|\n",
      "|  23|33609|\n",
      "+----+-----+\n",
      "\n"
     ]
    },
    {
     "name": "stderr",
     "output_type": "stream",
     "text": [
      "                                                                                \r"
     ]
    }
   ],
   "source": [
    "hight_hour = df.select(hour(\"dt\").alias(\"hour\")).groupBy(\"hour\").count().orderBy(\"hour\")\n",
    "hight_hour.show(24)"
   ]
  },
  {
   "cell_type": "code",
   "execution_count": 12,
   "metadata": {},
   "outputs": [
    {
     "name": "stderr",
     "output_type": "stream",
     "text": [
      "                                                                                \r"
     ]
    },
    {
     "data": {
      "image/png": "[encoded data removed]",
      "text/plain": [
       "<Figure size 1080x432 with 1 Axes>"
      ]
     },
     "metadata": {
      "needs_background": "light"
     },
     "output_type": "display_data"
    }
   ],
   "source": [
    "# covert spark df to pandas df\n",
    "hight_hour_pd = hight_hour.toPandas()\n",
    "\n",
    "hight_hour_pd.plot.bar(x='hour', y='count', figsize=(15,6), rot=0)\n",
    "plt.grid()\n",
    "plt.xlabel(\"Giờ - Hour\")\n",
    "plt.ylabel(\"Số chuyến đi\")\n",
    "plt.title(\"Mật độ book xe vào các khung giờ\");"
   ]
  },
  {
   "cell_type": "markdown",
   "metadata": {},
   "source": [
    "### 3. Which clusters had the highest number of pickups during morning rush hour?"
   ]
  },
  {
   "cell_type": "code",
   "execution_count": 13,
   "metadata": {},
   "outputs": [
    {
     "name": "stderr",
     "output_type": "stream",
     "text": [
      "                                                                                \r"
     ]
    },
    {
     "name": "stdout",
     "output_type": "stream",
     "text": [
      "+----+---+-----+\n",
      "|hour|cid|count|\n",
      "+----+---+-----+\n",
      "|   6|  0| 5866|\n",
      "|   6|  2|  676|\n",
      "|   6|  4|   20|\n",
      "|   6|  7| 2305|\n",
      "|   6| 10| 3874|\n",
      "|   6| 13| 2270|\n",
      "|   7|  0| 8260|\n",
      "|   7|  2|  727|\n",
      "|   7|  4|   35|\n",
      "|   7|  7| 2758|\n",
      "|   7| 10| 6115|\n",
      "|   7| 13| 3679|\n",
      "|   8|  0| 8671|\n",
      "|   8|  2|  714|\n",
      "|   8|  4|   31|\n",
      "|   8|  7| 2558|\n",
      "|   8| 10| 5516|\n",
      "|   8| 13| 4062|\n",
      "|   9|  0| 6252|\n",
      "|   9|  2|  744|\n",
      "+----+---+-----+\n",
      "only showing top 20 rows\n",
      "\n"
     ]
    }
   ],
   "source": [
    "clus = [0,2,4,7,10,13] # 6 cụm có mật độ cao nhât\n",
    "hour_mor = [6,7,8,9] # khung giờ buổi sáng\n",
    "\n",
    "rush_mor = df.select(hour(\"dt\").alias(\"hour\"), \"cid\").groupBy(\"hour\",\"cid\").count().filter(col(\"hour\").isin(hour_mor) & col(\"cid\").isin(clus)).orderBy(\"hour\", \"cid\")\n",
    "rush_mor.show()"
   ]
  },
  {
   "cell_type": "code",
   "execution_count": 14,
   "metadata": {},
   "outputs": [
    {
     "name": "stderr",
     "output_type": "stream",
     "text": [
      "                                                                                \r"
     ]
    },
    {
     "data": {
      "image/png": "[encoded data removed]",
      "text/plain": [
       "<Figure size 1080x432 with 1 Axes>"
      ]
     },
     "metadata": {
      "needs_background": "light"
     },
     "output_type": "display_data"
    }
   ],
   "source": [
    "# covert spark df to pandas df\n",
    "rush_mor_pd = rush_mor.toPandas()\n",
    "# dùng pivot_table để tổng hợp số cụm và số giờ\n",
    "rush_mor_pd = rush_mor_pd.pivot_table(index='hour', columns='cid', values='count')\n",
    "\n",
    "rush_mor_pd.plot.bar(figsize=(15,6), rot=0)\n",
    "plt.grid()\n",
    "plt.xlabel(\"Giờ - Hour\")\n",
    "plt.ylabel(\"Số chuyến đi\")\n",
    "plt.title(\"Mật độ book xe từ 6 -9h sáng\");"
   ]
  },
  {
   "cell_type": "markdown",
   "metadata": {},
   "source": [
    "### 4. Which clusters had the highest number of pickups during afternoon rush hour?"
   ]
  },
  {
   "cell_type": "code",
   "execution_count": 15,
   "metadata": {},
   "outputs": [
    {
     "name": "stderr",
     "output_type": "stream",
     "text": [
      "[Stage 31:>                                                         (0 + 8) / 8]\r"
     ]
    },
    {
     "name": "stdout",
     "output_type": "stream",
     "text": [
      "+----+---+-----+\n",
      "|hour|cid|count|\n",
      "+----+---+-----+\n",
      "|  15|  0|10409|\n",
      "|  15|  2| 1019|\n",
      "|  15|  4|   61|\n",
      "|  15|  7| 2686|\n",
      "|  15| 10| 4220|\n",
      "|  15| 13| 8637|\n",
      "|  16|  0|11162|\n",
      "|  16|  2| 1000|\n",
      "|  16|  4|   80|\n",
      "|  16|  7| 2799|\n",
      "|  16| 10| 4507|\n",
      "|  16| 13|10412|\n",
      "|  17|  0|12091|\n",
      "|  17|  2| 1037|\n",
      "|  17|  4|   83|\n",
      "|  17|  7| 3362|\n",
      "|  17| 10| 4722|\n",
      "|  17| 13|10601|\n",
      "|  18|  0|12137|\n",
      "|  18|  2|  990|\n",
      "+----+---+-----+\n",
      "only showing top 20 rows\n",
      "\n"
     ]
    },
    {
     "name": "stderr",
     "output_type": "stream",
     "text": [
      "                                                                                \r"
     ]
    }
   ],
   "source": [
    "hour_aft = [15,16,17,18] # khung giờ buổi chiều\n",
    "\n",
    "rush_aft = df.select(hour(\"dt\").alias(\"hour\"), \"cid\").groupBy(\"hour\",\"cid\").count().filter(col(\"hour\").isin(hour_aft) & col(\"cid\").isin(clus)).orderBy(\"hour\", \"cid\")\n",
    "rush_aft.show()"
   ]
  },
  {
   "cell_type": "code",
   "execution_count": 16,
   "metadata": {},
   "outputs": [
    {
     "name": "stderr",
     "output_type": "stream",
     "text": [
      "                                                                                \r"
     ]
    },
    {
     "data": {
      "image/png": "[encoded data removed]",
      "text/plain": [
       "<Figure size 1080x432 with 1 Axes>"
      ]
     },
     "metadata": {
      "needs_background": "light"
     },
     "output_type": "display_data"
    }
   ],
   "source": [
    "# covert spark df to pandas df\n",
    "rush_aft_pd = rush_aft.toPandas()\n",
    "# dùng pivot_table để tổng hợp số cụm và số giờ\n",
    "rush_aft_pd = rush_aft_pd.pivot_table(index='hour', columns='cid', values='count')\n",
    "\n",
    "rush_aft_pd.plot.bar(figsize=(15,6), rot=0)\n",
    "plt.grid()\n",
    "plt.xlabel(\"Giờ - Hour\")\n",
    "plt.ylabel(\"Số chuyến đi\")\n",
    "plt.title(\"Mật độ book xe từ 15 - 18h chiều\");"
   ]
  },
  {
   "cell_type": "markdown",
   "metadata": {},
   "source": [
    "### 5. Which clusters had the highest number of pickups during evening rush hour?"
   ]
  },
  {
   "cell_type": "code",
   "execution_count": 17,
   "metadata": {},
   "outputs": [
    {
     "name": "stderr",
     "output_type": "stream",
     "text": [
      "[Stage 38:=======>                                                  (1 + 7) / 8]\r"
     ]
    },
    {
     "name": "stdout",
     "output_type": "stream",
     "text": [
      "+----+---+-----+\n",
      "|hour|cid|count|\n",
      "+----+---+-----+\n",
      "|  19|  0|12025|\n",
      "|  19|  2| 1045|\n",
      "|  19|  4|   67|\n",
      "|  19|  7| 3689|\n",
      "|  19| 10| 3822|\n",
      "|  19| 13| 9096|\n",
      "|  20|  0|12298|\n",
      "|  20|  2| 1247|\n",
      "|  20|  4|   50|\n",
      "|  20|  7| 3722|\n",
      "|  20| 10| 3385|\n",
      "|  20| 13| 7979|\n",
      "|  21|  0|13078|\n",
      "|  21|  2| 1369|\n",
      "|  21|  4|   62|\n",
      "|  21|  7| 3968|\n",
      "|  21| 10| 3017|\n",
      "|  21| 13| 6306|\n",
      "|  22|  0|12669|\n",
      "|  22|  2| 1176|\n",
      "+----+---+-----+\n",
      "only showing top 20 rows\n",
      "\n"
     ]
    },
    {
     "name": "stderr",
     "output_type": "stream",
     "text": [
      "                                                                                \r"
     ]
    }
   ],
   "source": [
    "hour_eve = [19,20,21,22,23] # khung giờ buổi tối\n",
    "\n",
    "rush_eve = df.select(hour(\"dt\").alias(\"hour\"), \"cid\").groupBy(\"hour\",\"cid\").count().filter(col(\"hour\").isin(hour_eve) & col(\"cid\").isin(clus)).orderBy(\"hour\", \"cid\")\n",
    "rush_eve.show()"
   ]
  },
  {
   "cell_type": "code",
   "execution_count": 18,
   "metadata": {},
   "outputs": [
    {
     "name": "stderr",
     "output_type": "stream",
     "text": [
      "                                                                                \r"
     ]
    },
    {
     "data": {
      "image/png": "[encoded data removed]",
      "text/plain": [
       "<Figure size 1080x432 with 1 Axes>"
      ]
     },
     "metadata": {
      "needs_background": "light"
     },
     "output_type": "display_data"
    }
   ],
   "source": [
    "# covert spark df to pandas df\n",
    "rush_eve_pd = rush_eve.toPandas()\n",
    "# dùng pivot_table để tổng hợp số cụm và số giờ\n",
    "rush_eve_pd = rush_eve_pd.pivot_table(index='hour', columns='cid', values='count')\n",
    "\n",
    "rush_eve_pd.plot.bar(figsize=(15,6), rot=0)\n",
    "plt.grid()\n",
    "plt.xlabel(\"Giờ - Hour\")\n",
    "plt.ylabel(\"Số chuyến đi\")\n",
    "plt.title(\"Mật độ book xe từ 19 - 23h tối\");"
   ]
  }
 ],
 "metadata": {
  "interpreter": {
   "hash": "95c10dbc6f7eccef0c1ace84822d618f7863d3bc26cab307fc0169bb43c23fbe"
  },
  "kernelspec": {
   "display_name": "Python 3.8.5 64-bit ('base': conda)",
   "name": "python3"
  },
  "language_info": {
   "codemirror_mode": {
    "name": "ipython",
    "version": 3
   },
   "file_extension": ".py",
   "mimetype": "text/x-python",
   "name": "python",
   "nbconvert_exporter": "python",
   "pygments_lexer": "ipython3",
   "version": "3.9.7"
  },
  "orig_nbformat": 4
 },
 "nbformat": 4,
 "nbformat_minor": 2
}
