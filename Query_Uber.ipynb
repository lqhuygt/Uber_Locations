{
 "cells": [
  {
   "cell_type": "code",
   "execution_count": 1,
   "source": [
    "import findspark\r\n",
    "findspark.init()"
   ],
   "outputs": [],
   "metadata": {}
  },
  {
   "cell_type": "code",
   "execution_count": 5,
   "source": [
    "from pyspark.sql import SparkSession\r\n",
    "from pyspark.sql.types import StringType, DoubleType, StructType, StructField, IntegerType,TimestampType\r\n",
    "from pyspark.sql.functions import col, hour"
   ],
   "outputs": [],
   "metadata": {}
  },
  {
   "cell_type": "code",
   "execution_count": 6,
   "source": [
    "# create schema\r\n",
    "schema = StructType([ \r\n",
    "    StructField(\"dt\",TimestampType(), True), \r\n",
    "    StructField(\"lat\",DoubleType(), True), \r\n",
    "    StructField(\"lon\",DoubleType(), True), \r\n",
    "    StructField(\"base\", StringType(), True), \r\n",
    "    StructField(\"cid\", IntegerType(), True),\r\n",
    "    StructField(\"id\", StringType(), True),\r\n",
    "  ])"
   ],
   "outputs": [],
   "metadata": {}
  },
  {
   "cell_type": "code",
   "execution_count": 7,
   "source": [
    "# read data\r\n",
    "spark = SparkSession.builder.appName('Uber').getOrCreate()\r\n",
    "path = \"hdfs://localhost:9000/Uber_Warehouse/data_warehouse/part-00000-5f603393-be6b-4ef9-abfe-8618e38e8cca-c000.csv\"\r\n",
    "df = spark.read.csv(path=path, schema=schema)\r\n",
    "\r\n",
    "df.show(5)\r\n",
    "df.printSchema()"
   ],
   "outputs": [
    {
     "output_type": "stream",
     "name": "stdout",
     "text": [
      "+-------------------+-------+--------+------+---+----------+\n",
      "|                 dt|    lat|     lon|  base|cid|        id|\n",
      "+-------------------+-------+--------+------+---+----------+\n",
      "|2014-08-01 00:00:00| 40.729|-73.9422|B02598|  2| 2_7299422|\n",
      "|2014-08-01 00:00:00|40.7476|-73.9871|B02598|  0|0_74769871|\n",
      "|2014-08-01 00:00:00|40.7424|-74.0044|B02598|  0|0_74240044|\n",
      "|2014-08-01 00:00:00| 40.751|-73.9869|B02598| 13|13_7519869|\n",
      "|2014-08-01 00:00:00|40.7406|-73.9902|B02598|  0|0_74069902|\n",
      "+-------------------+-------+--------+------+---+----------+\n",
      "only showing top 5 rows\n",
      "\n",
      "root\n",
      " |-- dt: timestamp (nullable = true)\n",
      " |-- lat: double (nullable = true)\n",
      " |-- lon: double (nullable = true)\n",
      " |-- base: string (nullable = true)\n",
      " |-- cid: integer (nullable = true)\n",
      " |-- id: string (nullable = true)\n",
      "\n"
     ]
    }
   ],
   "metadata": {}
  },
  {
   "cell_type": "markdown",
   "source": [
    "### 1. Which clusters had the highest number of pickups?"
   ],
   "metadata": {}
  },
  {
   "cell_type": "markdown",
   "source": [],
   "metadata": {}
  },
  {
   "cell_type": "code",
   "execution_count": 9,
   "source": [
    "hight_clus = df.groupBy(\"cid\").count().orderBy(col(\"count\").desc())\r\n",
    "hight_clus.show(20)"
   ],
   "outputs": [
    {
     "output_type": "stream",
     "name": "stdout",
     "text": [
      "+---+------+\n",
      "|cid| count|\n",
      "+---+------+\n",
      "| 13|187289|\n",
      "|  0|186818|\n",
      "| 10|135954|\n",
      "|  4| 62195|\n",
      "|  7| 47856|\n",
      "|  2| 44127|\n",
      "| 16| 35788|\n",
      "|  3| 31151|\n",
      "| 14| 28469|\n",
      "|  1| 24132|\n",
      "| 19| 11269|\n",
      "|  8| 10258|\n",
      "| 11|  8068|\n",
      "|  6|  8055|\n",
      "| 18|  2672|\n",
      "| 12|  2242|\n",
      "|  5|  1149|\n",
      "| 17|   981|\n",
      "|  9|   493|\n",
      "| 15|   309|\n",
      "+---+------+\n",
      "\n"
     ]
    }
   ],
   "metadata": {}
  },
  {
   "cell_type": "code",
   "execution_count": 10,
   "source": [
    "import matplotlib.pyplot as plt\r\n",
    "# covert spark df to pandas df\r\n",
    "hight_clus_pd = hight_clus.toPandas()\r\n",
    "\r\n",
    "hight_clus_pd.plot.bar(x='cid', y='count', figsize=(15,6), rot=0)\r\n",
    "plt.grid()\r\n",
    "plt.xlabel(\"Mã cụm - cid\")\r\n",
    "plt.ylabel(\"Số chuyến đi\")\r\n",
    "plt.title(\"Mật độ book xe của các khu vực\");"
   ],
   "outputs": [
    {
     "output_type": "display_data",
     "data": {
      "text/plain": [
       "<Figure size 1080x432 with 1 Axes>"
      ],
      "image/png": "[encoded data removed]"
     },
     "metadata": {
      "needs_background": "light"
     }
    }
   ],
   "metadata": {}
  },
  {
   "cell_type": "markdown",
   "source": [
    "### 2. Which hours of the day had the highest number of pickups?"
   ],
   "metadata": {}
  },
  {
   "cell_type": "code",
   "execution_count": 11,
   "source": [
    "hight_hour = df.select(hour(\"dt\").alias(\"hour\")).groupBy(\"hour\").count().orderBy(\"hour\")\r\n",
    "hight_hour.show(24)"
   ],
   "outputs": [
    {
     "output_type": "stream",
     "name": "stdout",
     "text": [
      "+----+-----+\n",
      "|hour|count|\n",
      "+----+-----+\n",
      "|   0|21451|\n",
      "|   1|14471|\n",
      "|   2|10105|\n",
      "|   3|10376|\n",
      "|   4|11774|\n",
      "|   5|16525|\n",
      "|   6|24907|\n",
      "|   7|34064|\n",
      "|   8|34566|\n",
      "|   9|30195|\n",
      "|  10|30706|\n",
      "|  11|31778|\n",
      "|  12|32106|\n",
      "|  13|35764|\n",
      "|  14|40644|\n",
      "|  15|48197|\n",
      "|  16|53481|\n",
      "|  17|57122|\n",
      "|  18|55390|\n",
      "|  19|53008|\n",
      "|  20|51674|\n",
      "|  21|51354|\n",
      "|  22|46008|\n",
      "|  23|33609|\n",
      "+----+-----+\n",
      "\n"
     ]
    }
   ],
   "metadata": {}
  },
  {
   "cell_type": "code",
   "execution_count": 12,
   "source": [
    "# covert spark df to pandas df\r\n",
    "hight_hour_pd = hight_hour.toPandas()\r\n",
    "\r\n",
    "hight_hour_pd.plot.bar(x='hour', y='count', figsize=(15,6), rot=0)\r\n",
    "plt.grid()\r\n",
    "plt.xlabel(\"Giờ - Hour\")\r\n",
    "plt.ylabel(\"Số chuyến đi\")\r\n",
    "plt.title(\"Mật độ book xe vào các khung giờ\");"
   ],
   "outputs": [
    {
     "output_type": "display_data",
     "data": {
      "text/plain": [
       "<Figure size 1080x432 with 1 Axes>"
      ],
      "image/png": "[encoded data removed]"
     },
     "metadata": {
      "needs_background": "light"
     }
    }
   ],
   "metadata": {}
  },
  {
   "cell_type": "markdown",
   "source": [
    "### 3. Which clusters had the highest number of pickups during morning rush hour?"
   ],
   "metadata": {}
  },
  {
   "cell_type": "code",
   "execution_count": 13,
   "source": [
    "clus = [0,2,4,7,10,13] # 6 cụm có mật độ cao nhât\r\n",
    "hour_mor = [6,7,8,9] # khung giờ buổi sáng\r\n",
    "\r\n",
    "rush_mor = df.select(hour(\"dt\").alias(\"hour\"), \"cid\").groupBy(\"hour\",\"cid\").count().filter(col(\"hour\").isin(hour_mor) & col(\"cid\").isin(clus)).orderBy(\"hour\", \"cid\")\r\n",
    "rush_mor.show()"
   ],
   "outputs": [
    {
     "output_type": "stream",
     "name": "stdout",
     "text": [
      "+----+---+-----+\n",
      "|hour|cid|count|\n",
      "+----+---+-----+\n",
      "|   6|  0| 5421|\n",
      "|   6|  2| 1523|\n",
      "|   6|  4| 2878|\n",
      "|   6|  7| 1704|\n",
      "|   6| 10| 3274|\n",
      "|   6| 13| 4227|\n",
      "|   7|  0| 7745|\n",
      "|   7|  2| 1860|\n",
      "|   7|  4| 4597|\n",
      "|   7|  7| 2028|\n",
      "|   7| 10| 4466|\n",
      "|   7| 13| 6717|\n",
      "|   8|  0| 8244|\n",
      "|   8|  2| 1720|\n",
      "|   8|  4| 4179|\n",
      "|   8|  7| 2042|\n",
      "|   8| 10| 4846|\n",
      "|   8| 13| 7045|\n",
      "|   9|  0| 6098|\n",
      "|   9|  2| 1782|\n",
      "+----+---+-----+\n",
      "only showing top 20 rows\n",
      "\n"
     ]
    }
   ],
   "metadata": {}
  },
  {
   "cell_type": "code",
   "execution_count": 14,
   "source": [
    "# covert spark df to pandas df\r\n",
    "rush_mor_pd = rush_mor.toPandas()\r\n",
    "# dùng pivot_table để tổng hợp số cụm và số giờ\r\n",
    "rush_mor_pd = rush_mor_pd.pivot_table(index='hour', columns='cid', values='count')\r\n",
    "\r\n",
    "rush_mor_pd.plot.bar(figsize=(15,6), rot=0)\r\n",
    "plt.grid()\r\n",
    "plt.xlabel(\"Giờ - Hour\")\r\n",
    "plt.ylabel(\"Số chuyến đi\")\r\n",
    "plt.title(\"Mật độ book xe từ 6 -9h sáng\");"
   ],
   "outputs": [
    {
     "output_type": "display_data",
     "data": {
      "text/plain": [
       "<Figure size 1080x432 with 1 Axes>"
      ],
      "image/png": "[encoded data removed]"
     },
     "metadata": {
      "needs_background": "light"
     }
    }
   ],
   "metadata": {}
  },
  {
   "cell_type": "markdown",
   "source": [
    "### 4. Which clusters had the highest number of pickups during afternoon rush hour?"
   ],
   "metadata": {}
  },
  {
   "cell_type": "code",
   "execution_count": 15,
   "source": [
    "hour_aft = [15,16,17,18] # khung giờ buổi chiều\r\n",
    "\r\n",
    "rush_aft = df.select(hour(\"dt\").alias(\"hour\"), \"cid\").groupBy(\"hour\",\"cid\").count().filter(col(\"hour\").isin(hour_aft) & col(\"cid\").isin(clus)).orderBy(\"hour\", \"cid\")\r\n",
    "rush_aft.show()"
   ],
   "outputs": [
    {
     "output_type": "stream",
     "name": "stdout",
     "text": [
      "+----+---+-----+\n",
      "|hour|cid|count|\n",
      "+----+---+-----+\n",
      "|  15|  0|10530|\n",
      "|  15|  2| 1877|\n",
      "|  15|  4| 3437|\n",
      "|  15|  7| 2335|\n",
      "|  15| 10| 8149|\n",
      "|  15| 13|12952|\n",
      "|  16|  0|11904|\n",
      "|  16|  2| 1955|\n",
      "|  16|  4| 3712|\n",
      "|  16|  7| 2575|\n",
      "|  16| 10| 9182|\n",
      "|  16| 13|15164|\n",
      "|  17|  0|13043|\n",
      "|  17|  2| 2297|\n",
      "|  17|  4| 3996|\n",
      "|  17|  7| 3018|\n",
      "|  17| 10| 9954|\n",
      "|  17| 13|15501|\n",
      "|  18|  0|12479|\n",
      "|  18|  2| 2575|\n",
      "+----+---+-----+\n",
      "only showing top 20 rows\n",
      "\n"
     ]
    }
   ],
   "metadata": {}
  },
  {
   "cell_type": "code",
   "execution_count": 16,
   "source": [
    "# covert spark df to pandas df\r\n",
    "rush_aft_pd = rush_aft.toPandas()\r\n",
    "# dùng pivot_table để tổng hợp số cụm và số giờ\r\n",
    "rush_aft_pd = rush_aft_pd.pivot_table(index='hour', columns='cid', values='count')\r\n",
    "\r\n",
    "rush_aft_pd.plot.bar(figsize=(15,6), rot=0)\r\n",
    "plt.grid()\r\n",
    "plt.xlabel(\"Giờ - Hour\")\r\n",
    "plt.ylabel(\"Số chuyến đi\")\r\n",
    "plt.title(\"Mật độ book xe từ 15 - 18h chiều\");"
   ],
   "outputs": [
    {
     "output_type": "display_data",
     "data": {
      "text/plain": [
       "<Figure size 1080x432 with 1 Axes>"
      ],
      "image/png": "[encoded data removed]"
     },
     "metadata": {
      "needs_background": "light"
     }
    }
   ],
   "metadata": {}
  },
  {
   "cell_type": "markdown",
   "source": [
    "### 5. Which clusters had the highest number of pickups during evening rush hour?"
   ],
   "metadata": {}
  },
  {
   "cell_type": "code",
   "execution_count": 17,
   "source": [
    "hour_eve = [19,20,21,22,23] # khung giờ buổi tối\r\n",
    "\r\n",
    "rush_eve = df.select(hour(\"dt\").alias(\"hour\"), \"cid\").groupBy(\"hour\",\"cid\").count().filter(col(\"hour\").isin(hour_eve) & col(\"cid\").isin(clus)).orderBy(\"hour\", \"cid\")\r\n",
    "rush_eve.show()"
   ],
   "outputs": [
    {
     "output_type": "stream",
     "name": "stdout",
     "text": [
      "+----+---+-----+\n",
      "|hour|cid|count|\n",
      "+----+---+-----+\n",
      "|  19|  0|11607|\n",
      "|  19|  2| 2543|\n",
      "|  19|  4| 3399|\n",
      "|  19|  7| 2861|\n",
      "|  19| 10| 9425|\n",
      "|  19| 13|13439|\n",
      "|  20|  0|11510|\n",
      "|  20|  2| 2630|\n",
      "|  20|  4| 3019|\n",
      "|  20|  7| 3149|\n",
      "|  20| 10| 8930|\n",
      "|  20| 13|12262|\n",
      "|  21|  0|12006|\n",
      "|  21|  2| 2799|\n",
      "|  21|  4| 2644|\n",
      "|  21|  7| 3254|\n",
      "|  21| 10| 8915|\n",
      "|  21| 13|11175|\n",
      "|  22|  0|11575|\n",
      "|  22|  2| 2748|\n",
      "+----+---+-----+\n",
      "only showing top 20 rows\n",
      "\n"
     ]
    }
   ],
   "metadata": {}
  },
  {
   "cell_type": "code",
   "execution_count": 18,
   "source": [
    "# covert spark df to pandas df\r\n",
    "rush_eve_pd = rush_eve.toPandas()\r\n",
    "# dùng pivot_table để tổng hợp số cụm và số giờ\r\n",
    "rush_eve_pd = rush_eve_pd.pivot_table(index='hour', columns='cid', values='count')\r\n",
    "\r\n",
    "rush_eve_pd.plot.bar(figsize=(15,6), rot=0)\r\n",
    "plt.grid()\r\n",
    "plt.xlabel(\"Giờ - Hour\")\r\n",
    "plt.ylabel(\"Số chuyến đi\")\r\n",
    "plt.title(\"Mật độ book xe từ 19 - 23h tối\");"
   ],
   "outputs": [
    {
     "output_type": "display_data",
     "data": {
      "text/plain": [
       "<Figure size 1080x432 with 1 Axes>"
      ],
      "image/png": "[encoded data removed]"
     },
     "metadata": {
      "needs_background": "light"
     }
    }
   ],
   "metadata": {}
  },
  {
   "cell_type": "markdown",
   "source": [
    "## Conclusion"
   ],
   "metadata": {}
  },
  {
   "cell_type": "markdown",
   "source": [
    "- Cụm 13 là cụm có mật độ book xe cao nhất\r\n",
    "- Thời gian từ 16 - 19 giờ có mật độ book xe cao nhất\r\n",
    "- Cụm 13 và Cụm 0 có mật độ book xe gần bằng nhau chỉ hơn kém nhau khoảng 900 lượt book với cụm 13 là 187289 và cụm 0 là 186818"
   ],
   "metadata": {}
  }
 ],
 "metadata": {
  "orig_nbformat": 4,
  "language_info": {
   "name": "python",
   "version": "3.8.5",
   "mimetype": "text/x-python",
   "codemirror_mode": {
    "name": "ipython",
    "version": 3
   },
   "pygments_lexer": "ipython3",
   "nbconvert_exporter": "python",
   "file_extension": ".py"
  },
  "kernelspec": {
   "name": "python3",
   "display_name": "Python 3.8.5 64-bit ('base': conda)"
  },
  "interpreter": {
   "hash": "95c10dbc6f7eccef0c1ace84822d618f7863d3bc26cab307fc0169bb43c23fbe"
  }
 },
 "nbformat": 4,
 "nbformat_minor": 2
}