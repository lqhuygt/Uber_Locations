{
 "cells": [
  {
   "cell_type": "code",
   "execution_count": 1,
   "metadata": {},
   "outputs": [],
   "source": [
    "from kafka import KafkaProducer\n",
    "from pyspark.sql import SparkSession \n",
    "from pyspark.sql.functions import *\n",
    "import time, csv\n",
    "from json import dumps"
   ]
  },
  {
   "cell_type": "code",
   "execution_count": 2,
   "metadata": {},
   "outputs": [
    {
     "name": "stderr",
     "output_type": "stream",
     "text": [
      "22/03/07 16:30:22 WARN Utils: Your hostname, HuyLes-MacBook-Pro.local resolves to a loopback address: 127.0.0.1; using 192.168.1.2 instead (on interface en0)\n",
      "22/03/07 16:30:22 WARN Utils: Set SPARK_LOCAL_IP if you need to bind to another address\n"
     ]
    },
    {
     "name": "stdout",
     "output_type": "stream",
     "text": [
      ":: loading settings :: url = jar:file:/Users/huyle/spark/jars/ivy-2.4.0.jar!/org/apache/ivy/core/settings/ivysettings.xml\n"
     ]
    },
    {
     "name": "stderr",
     "output_type": "stream",
     "text": [
      "Ivy Default Cache set to: /Users/huyle/.ivy2/cache\n",
      "The jars for the packages stored in: /Users/huyle/.ivy2/jars\n",
      "org.apache.spark#spark-streaming-kafka-0-10_2.12 added as a dependency\n",
      "org.apache.spark#spark-sql-kafka-0-10_2.12 added as a dependency\n",
      ":: resolving dependencies :: org.apache.spark#spark-submit-parent-70bed158-b91e-4957-8cb0-98c331e1519d;1.0\n",
      "\tconfs: [default]\n",
      "\tfound org.apache.spark#spark-streaming-kafka-0-10_2.12;3.1.2 in central\n",
      "\tfound org.apache.spark#spark-token-provider-kafka-0-10_2.12;3.1.2 in central\n",
      "\tfound org.apache.kafka#kafka-clients;2.6.0 in central\n",
      "\tfound com.github.luben#zstd-jni;1.4.8-1 in central\n",
      "\tfound org.lz4#lz4-java;1.7.1 in central\n",
      "\tfound org.xerial.snappy#snappy-java;1.1.8.2 in central\n",
      "\tfound org.slf4j#slf4j-api;1.7.30 in central\n",
      "\tfound org.spark-project.spark#unused;1.0.0 in central\n",
      "\tfound org.apache.spark#spark-sql-kafka-0-10_2.12;3.1.2 in central\n",
      "\tfound org.apache.commons#commons-pool2;2.6.2 in central\n",
      ":: resolution report :: resolve 1148ms :: artifacts dl 21ms\n",
      "\t:: modules in use:\n",
      "\tcom.github.luben#zstd-jni;1.4.8-1 from central in [default]\n",
      "\torg.apache.commons#commons-pool2;2.6.2 from central in [default]\n",
      "\torg.apache.kafka#kafka-clients;2.6.0 from central in [default]\n",
      "\torg.apache.spark#spark-sql-kafka-0-10_2.12;3.1.2 from central in [default]\n",
      "\torg.apache.spark#spark-streaming-kafka-0-10_2.12;3.1.2 from central in [default]\n",
      "\torg.apache.spark#spark-token-provider-kafka-0-10_2.12;3.1.2 from central in [default]\n",
      "\torg.lz4#lz4-java;1.7.1 from central in [default]\n",
      "\torg.slf4j#slf4j-api;1.7.30 from central in [default]\n",
      "\torg.spark-project.spark#unused;1.0.0 from central in [default]\n",
      "\torg.xerial.snappy#snappy-java;1.1.8.2 from central in [default]\n",
      "\t---------------------------------------------------------------------\n",
      "\t|                  |            modules            ||   artifacts   |\n",
      "\t|       conf       | number| search|dwnlded|evicted|| number|dwnlded|\n",
      "\t---------------------------------------------------------------------\n",
      "\t|      default     |   10  |   0   |   0   |   0   ||   10  |   0   |\n",
      "\t---------------------------------------------------------------------\n",
      ":: retrieving :: org.apache.spark#spark-submit-parent-70bed158-b91e-4957-8cb0-98c331e1519d\n",
      "\tconfs: [default]\n",
      "\t0 artifacts copied, 10 already retrieved (0kB/14ms)\n",
      "22/03/07 16:30:54 WARN NativeCodeLoader: Unable to load native-hadoop library for your platform... using builtin-java classes where applicable\n",
      "Using Spark's default log4j profile: org/apache/spark/log4j-defaults.properties\n",
      "Setting default log level to \"WARN\".\n",
      "To adjust logging level use sc.setLogLevel(newLevel). For SparkR, use setLogLevel(newLevel).\n",
      "22/03/07 16:30:56 WARN Utils: Service 'SparkUI' could not bind on port 4040. Attempting port 4041.\n",
      "                                                                                \r"
     ]
    }
   ],
   "source": [
    "spark = SparkSession.builder \\\n",
    "        .config('spark.jars.packages', 'org.apache.spark:spark-streaming-kafka-0-10_2.12:3.1.2,org.apache.spark:spark-sql-kafka-0-10_2.12:3.1.2')\\\n",
    "        .getOrCreate() \n",
    "df_uber = spark.read.csv(\"./data/uber.csv\")\n"
   ]
  },
  {
   "cell_type": "code",
   "execution_count": 3,
   "metadata": {},
   "outputs": [
    {
     "name": "stdout",
     "output_type": "stream",
     "text": [
      "+-------------------------------------------+\n",
      "|value                                      |\n",
      "+-------------------------------------------+\n",
      "|2014-08-01 00:00:00,40.729,-73.9422,B02598 |\n",
      "|2014-08-01 00:00:00,40.7476,-73.9871,B02598|\n",
      "|2014-08-01 00:00:00,40.7424,-74.0044,B02598|\n",
      "|2014-08-01 00:00:00,40.751,-73.9869,B02598 |\n",
      "|2014-08-01 00:00:00,40.7406,-73.9902,B02598|\n",
      "+-------------------------------------------+\n",
      "only showing top 5 rows\n",
      "\n"
     ]
    }
   ],
   "source": [
    "# convert to json with format key-value push to kafka\n",
    "# using \"struct\" funtion to nested many columns into one column\n",
    "# df = df_uber.select(to_json(struct(\"*\")).alias(\"value\"))\n",
    "# df.show(5, False)\n",
    "\n",
    "df = df_uber.select(concat_ws(\",\",col(\"_c0\"), col(\"_c1\"), col(\"_c2\"), col(\"_c3\")).alias(\"value\"))\n",
    "df.show(5, False)"
   ]
  },
  {
   "cell_type": "code",
   "execution_count": 4,
   "metadata": {},
   "outputs": [
    {
     "name": "stderr",
     "output_type": "stream",
     "text": [
      "                                                                                \r"
     ]
    }
   ],
   "source": [
    "# df.selectExpr(\"CAST(value AS STRING)\") \n",
    "#     .write \\\n",
    "#     .format(\"kafka\") \\\n",
    "#     .option(\"kafka.bootstrap.servers\", \"localhost:9092\")\\\n",
    "#     .option(\"topic\", \"TestTopic\")\\\n",
    "#     .save()\n",
    "\n",
    "df.write \\\n",
    "    .format(\"kafka\") \\\n",
    "    .option(\"kafka.bootstrap.servers\", \"localhost:9092\")\\\n",
    "    .option(\"topic\", \"DemoTopic\")\\\n",
    "    .save()\n",
    "\n",
    "spark.stop()"
   ]
  },
  {
   "cell_type": "code",
   "execution_count": 13,
   "metadata": {},
   "outputs": [],
   "source": [
    "# TOPCIC_NAME = \"TestUber\"\n",
    "# BOOTSTRAP_SERVER = \"localhost:9092\"\n",
    "\n",
    "# producer = KafkaProducer(bootstrap_servers=BOOTSTRAP_SERVER,value_serializer=lambda x:dumps(x).encode('utf-8'))\n",
    "\n",
    "# message = None\n",
    "# count_message=0\n",
    "# with open(\"./data/uber.csv\") as file:\n",
    "#     reader = csv.reader(file, delimiter=\",\")\n",
    "#     for messages in reader:\n",
    "#         message = \",\".join(messages)\n",
    "#         count_message+=1\n",
    "#         print(\"Message\", count_message , \":\", message)\n",
    "#         producer.send(TOPCIC_NAME, message)\n",
    "#         time.sleep(1)"
   ]
  },
  {
   "cell_type": "code",
   "execution_count": 14,
   "metadata": {},
   "outputs": [],
   "source": [
    "#Kafak Consumer\n",
    "\n",
    "# kafka_consumer_obj = KafkaConsumer(KAFKA_OUTPUT_TOPIC_NAME,bootstrap_servers=KAFKA_SERVER,auto_offset_reset='latest',enable_auto_comit=True)\n",
    "# print(\"Reading messages from Kfaka Topic\")\n",
    "# message_list = []\n",
    "# counter = 0\n",
    "# for message in kafka_consumer_obj:\n",
    "#  print(\"Key: \",message.key)\n",
    "#  output_message = message.value\n",
    "#  print(type(message.value))\n",
    "#  print(\"Message received: \",output_message)\n",
    "#  message_list.append(output_message)\n",
    "#  time.sleep(2)"
   ]
  }
 ],
 "metadata": {
  "interpreter": {
   "hash": "8955aea2d0f270cb3725bdc50cc50d02d0e7b2461bf61a91c7963d76d191e8ce"
  },
  "kernelspec": {
   "display_name": "Python 3.9.7 64-bit ('base': conda)",
   "language": "python",
   "name": "python3"
  },
  "language_info": {
   "codemirror_mode": {
    "name": "ipython",
    "version": 3
   },
   "file_extension": ".py",
   "mimetype": "text/x-python",
   "name": "python",
   "nbconvert_exporter": "python",
   "pygments_lexer": "ipython3",
   "version": "3.9.7"
  },
  "orig_nbformat": 4
 },
 "nbformat": 4,
 "nbformat_minor": 2
}
